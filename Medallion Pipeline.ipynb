{
 "cells": [
  {
   "cell_type": "markdown",
   "metadata": {},
   "source": [
    "# Medallion Pipeline (Databricks)"
   ]
  },
  {
   "cell_type": "markdown",
   "metadata": {},
   "source": [
    "This pipeline implements a Medallion architecture on Databricks for processing e-commerce data (users, items, and events). The pipeline follows a layered approach:\n",
    "\n",
    "- Bronze Layer: Ingests raw data into Delta tables without significant transformation, preserving the original structure for auditing and replayability.\n",
    "- Silver Layer: Cleans, validates, and refines the data (e.g., casting types, handling nulls, adding timestamps), making it queryable and reliable for analysis.\n",
    "- Gold Layer: Aggregates and models the refined data into a business-oriented datamart (e.g., top items by views), optimized for reporting and decision-making.\n",
    "\n",
    "The pipeline uses Spark SQL and DataFrames to handle data from JSON sources, applies transformations, and stores results in Delta Lake tables within a Unity Catalog. It culminates in a datamart for ranking items by view counts per year."
   ]
  },
  {
   "cell_type": "markdown",
   "metadata": {},
   "source": [
    "## 1. Imports and configuration"
   ]
  },
  {
   "cell_type": "code",
   "execution_count": null,
   "metadata": {
    "application/vnd.databricks.v1+cell": {
     "cellMetadata": {
      "byteLimit": 2048000,
      "rowLimit": 10000
     },
     "inputWidgets": {},
     "nuid": "148e8140-c4be-45ac-b3ea-de5cfc9063a0",
     "showTitle": false,
     "tableResultSettingsMap": {},
     "title": ""
    }
   },
   "outputs": [],
   "source": [
    "from pyspark.sql import SparkSession\n",
    "from pyspark.sql.functions import (\n",
    "    col, lit, from_json, get_json_object, \n",
    "    to_timestamp, year, coalesce, rank, row_number,\n",
    "    regexp_replace, trim\n",
    ")\n",
    "from pyspark.sql.types import (\n",
    "    StructType, StructField, StringType, \n",
    "    LongType, TimestampType, DoubleType, DecimalType\n",
    ")\n",
    "from pyspark.sql.window import Window"
   ]
  },
  {
   "cell_type": "code",
   "execution_count": null,
   "metadata": {
    "application/vnd.databricks.v1+cell": {
     "cellMetadata": {
      "byteLimit": 2048000,
      "rowLimit": 10000
     },
     "inputWidgets": {},
     "nuid": "00cfc7a6-f1c5-4dd2-8d7b-61b860646757",
     "showTitle": false,
     "tableResultSettingsMap": {},
     "title": ""
    }
   },
   "outputs": [],
   "source": [
    "CATALOG_NAME = \"workspace\" \n",
    "SCHEMA_NAME = \"default\" \n",
    "VOLUME_NAME = \"merkle_landing_zone\"\n",
    "\n",
    "volume_path = f\"/Volumes/{CATALOG_NAME}/{SCHEMA_NAME}/{VOLUME_NAME}\"\n",
    "item_file_path = f\"{volume_path}/item.csv\"\n",
    "event_file_path = f\"{volume_path}/event.csv\"\n",
    "\n",
    "item_source_url = \"https://merkle-de-interview-case-study.s3.eu-central-1.amazonaws.com/de/item.csv\"\n",
    "event_source_url = \"https://merkle-de-interview-case-study.s3.eu-central-1.amazonaws.com/de/event.csv\"\n",
    "\n",
    "item_target_path = f\"{volume_path}/item.csv\"\n",
    "event_target_path = f\"{volume_path}/event.csv\"\n",
    "\n",
    "spark.sql(f\"USE CATALOG {CATALOG_NAME}\")"
   ]
  },
  {
   "cell_type": "markdown",
   "metadata": {},
   "source": [
    "## 2. Data files copy S3 -> DBFS"
   ]
  },
  {
   "cell_type": "code",
   "execution_count": null,
   "metadata": {
    "application/vnd.databricks.v1+cell": {
     "cellMetadata": {
      "byteLimit": 2048000,
      "rowLimit": 10000
     },
     "inputWidgets": {},
     "nuid": "9a67f79d-ed0f-4ba5-9c1a-67b9a2e2530e",
     "showTitle": false,
     "tableResultSettingsMap": {},
     "title": ""
    }
   },
   "outputs": [
    {
     "data": {
      "text/html": [
       "<style scoped>\n",
       "  .table-result-container {\n",
       "    max-height: 300px;\n",
       "    overflow: auto;\n",
       "  }\n",
       "  table, th, td {\n",
       "    border: 1px solid black;\n",
       "    border-collapse: collapse;\n",
       "  }\n",
       "  th, td {\n",
       "    padding: 5px;\n",
       "  }\n",
       "  th {\n",
       "    text-align: left;\n",
       "  }\n",
       "</style><div class='table-result-container'><table class='table-result'><thead style='background-color: white'><tr><th>path</th><th>name</th><th>size</th><th>modificationTime</th></tr></thead><tbody><tr><td>dbfs:/Volumes/workspace/default/merkle_landing_zone/event.csv</td><td>event.csv</td><td>155970517</td><td>1761286720000</td></tr><tr><td>dbfs:/Volumes/workspace/default/merkle_landing_zone/item.csv</td><td>item.csv</td><td>184207</td><td>1761286717000</td></tr></tbody></table></div>"
      ]
     },
     "metadata": {
      "application/vnd.databricks.v1+output": {
       "addedWidgets": {},
       "aggData": [],
       "aggError": "",
       "aggOverflow": false,
       "aggSchema": [],
       "aggSeriesLimitReached": false,
       "aggType": "",
       "arguments": {},
       "columnCustomDisplayInfos": {},
       "data": [
        [
         "dbfs:/Volumes/workspace/default/merkle_landing_zone/event.csv",
         "event.csv",
         155970517,
         1761286720000
        ],
        [
         "dbfs:/Volumes/workspace/default/merkle_landing_zone/item.csv",
         "item.csv",
         184207,
         1761286717000
        ]
       ],
       "datasetInfos": [],
       "dbfsResultPath": null,
       "isJsonSchema": true,
       "metadata": {},
       "overflow": false,
       "plotOptions": {
        "customPlotOptions": {},
        "displayType": "table",
        "pivotAggregation": null,
        "pivotColumns": null,
        "xColumns": null,
        "yColumns": null
       },
       "removedWidgets": [],
       "schema": [
        {
         "metadata": "{}",
         "name": "path",
         "type": "\"string\""
        },
        {
         "metadata": "{}",
         "name": "name",
         "type": "\"string\""
        },
        {
         "metadata": "{}",
         "name": "size",
         "type": "\"long\""
        },
        {
         "metadata": "{}",
         "name": "modificationTime",
         "type": "\"long\""
        }
       ],
       "type": "table"
      }
     },
     "output_type": "display_data"
    }
   ],
   "source": [
    "dbutils.fs.cp(item_source_url, item_target_path, recurse=True)\n",
    "dbutils.fs.cp(event_source_url, event_target_path, recurse=True)\n",
    "\n",
    "display(dbutils.fs.ls(volume_path))"
   ]
  },
  {
   "cell_type": "markdown",
   "metadata": {},
   "source": [
    "## 3. LAYER 1: BRONZE"
   ]
  },
  {
   "cell_type": "markdown",
   "metadata": {},
   "source": [
    " - Ingests raw data into Delta tables without significant transformation"
   ]
  },
  {
   "cell_type": "markdown",
   "metadata": {},
   "source": [
    "#### 3.A. BRONZE Schema"
   ]
  },
  {
   "cell_type": "code",
   "execution_count": null,
   "metadata": {
    "application/vnd.databricks.v1+cell": {
     "cellMetadata": {
      "byteLimit": 2048000,
      "rowLimit": 10000
     },
     "inputWidgets": {},
     "nuid": "021cab13-09ac-408a-8116-6ff201996e5c",
     "showTitle": false,
     "tableResultSettingsMap": {},
     "title": ""
    }
   },
   "outputs": [
    {
     "data": {
      "text/plain": [
       "DataFrame[]"
      ]
     },
     "execution_count": 87,
     "metadata": {},
     "output_type": "execute_result"
    }
   ],
   "source": [
    "spark.sql(f\"CREATE SCHEMA IF NOT EXISTS bronze_db\")\n",
    "spark.sql(f\"USE SCHEMA bronze_db\")"
   ]
  },
  {
   "cell_type": "markdown",
   "metadata": {},
   "source": [
    "#### 3.B. BRONZE (Item Table)"
   ]
  },
  {
   "cell_type": "markdown",
   "metadata": {},
   "source": [
    "string-only schema for the item CSV (to ingest raw without casting)\n",
    "- reads the CSV\n",
    "- writes it as a Delta table"
   ]
  },
  {
   "cell_type": "code",
   "execution_count": null,
   "metadata": {
    "application/vnd.databricks.v1+cell": {
     "cellMetadata": {
      "byteLimit": 2048000,
      "rowLimit": 10000
     },
     "inputWidgets": {},
     "nuid": "44bdd3a6-2552-402c-9516-55e7d537f104",
     "showTitle": false,
     "tableResultSettingsMap": {},
     "title": ""
    }
   },
   "outputs": [
    {
     "data": {
      "text/html": [
       "<style scoped>\n",
       "  .table-result-container {\n",
       "    max-height: 300px;\n",
       "    overflow: auto;\n",
       "  }\n",
       "  table, th, td {\n",
       "    border: 1px solid black;\n",
       "    border-collapse: collapse;\n",
       "  }\n",
       "  th, td {\n",
       "    padding: 5px;\n",
       "  }\n",
       "  th {\n",
       "    text-align: left;\n",
       "  }\n",
       "</style><div class='table-result-container'><table class='table-result'><thead style='background-color: white'><tr><th>adjective</th><th>category</th><th>created_at</th><th>id</th><th>modifier</th><th>name</th><th>price</th></tr></thead><tbody><tr><td>fuzzy</td><td>contraption</td><td>2014-01-15 21:36:09</td><td>2512.0</td><td>carrying_case</td><td>fuzzy contraption carrying_case</td><td>150.0</td></tr><tr><td>null</td><td>instrument</td><td>2013-05-14 05:20:50</td><td>482.0</td><td>refill</td><td>instrument refill</td><td>35.2</td></tr><tr><td>industrial-strength</td><td>module</td><td>2014-02-04 19:28:32</td><td>2446.0</td><td>null</td><td>industrial-strength module</td><td>300.0</td></tr><tr><td>digital</td><td>tool</td><td>2013-02-25 12:23:18</td><td>1312.0</td><td>carrying_case</td><td>digital tool carrying_case</td><td>16.5</td></tr><tr><td>miniature</td><td>device</td><td>2013-08-05 17:20:45</td><td>3556.0</td><td>cleaner</td><td>miniature device cleaner</td><td>16.5</td></tr><tr><td>rechargable</td><td>contraption</td><td>2013-09-12 06:27:01</td><td>131.0</td><td>cleaner</td><td>rechargable contraption cleaner</td><td>195.0</td></tr><tr><td>null</td><td>instrument</td><td>2013-10-07 09:38:14</td><td>1178.0</td><td>how-to-manual</td><td>instrument how-to-manual</td><td>0.0</td></tr><tr><td>prize-winning</td><td>mechanism</td><td>2013-09-09 09:32:18</td><td>110.0</td><td>storage_unit</td><td>prize-winning mechanism storage_unit</td><td>41.25</td></tr><tr><td>null</td><td>mechanism</td><td>2013-10-25 22:53:25</td><td>47.0</td><td>null</td><td>mechanism</td><td>15.0</td></tr><tr><td>organic</td><td>tool</td><td>2013-05-10 10:19:33</td><td>1696.0</td><td>null</td><td>organic tool</td><td>37.5</td></tr></tbody></table></div>"
      ]
     },
     "metadata": {
      "application/vnd.databricks.v1+output": {
       "addedWidgets": {},
       "aggData": [],
       "aggError": "",
       "aggOverflow": false,
       "aggSchema": [],
       "aggSeriesLimitReached": false,
       "aggType": "",
       "arguments": {},
       "columnCustomDisplayInfos": {},
       "data": [
        [
         "fuzzy",
         "contraption",
         "2014-01-15 21:36:09",
         "2512.0",
         "carrying_case",
         "fuzzy contraption carrying_case",
         "150.0"
        ],
        [
         null,
         "instrument",
         "2013-05-14 05:20:50",
         "482.0",
         "refill",
         "instrument refill",
         "35.2"
        ],
        [
         "industrial-strength",
         "module",
         "2014-02-04 19:28:32",
         "2446.0",
         null,
         "industrial-strength module",
         "300.0"
        ],
        [
         "digital",
         "tool",
         "2013-02-25 12:23:18",
         "1312.0",
         "carrying_case",
         "digital tool carrying_case",
         "16.5"
        ],
        [
         "miniature",
         "device",
         "2013-08-05 17:20:45",
         "3556.0",
         "cleaner",
         "miniature device cleaner",
         "16.5"
        ],
        [
         "rechargable",
         "contraption",
         "2013-09-12 06:27:01",
         "131.0",
         "cleaner",
         "rechargable contraption cleaner",
         "195.0"
        ],
        [
         null,
         "instrument",
         "2013-10-07 09:38:14",
         "1178.0",
         "how-to-manual",
         "instrument how-to-manual",
         "0.0"
        ],
        [
         "prize-winning",
         "mechanism",
         "2013-09-09 09:32:18",
         "110.0",
         "storage_unit",
         "prize-winning mechanism storage_unit",
         "41.25"
        ],
        [
         null,
         "mechanism",
         "2013-10-25 22:53:25",
         "47.0",
         null,
         "mechanism",
         "15.0"
        ],
        [
         "organic",
         "tool",
         "2013-05-10 10:19:33",
         "1696.0",
         null,
         "organic tool",
         "37.5"
        ]
       ],
       "datasetInfos": [],
       "dbfsResultPath": null,
       "isJsonSchema": true,
       "metadata": {},
       "overflow": false,
       "plotOptions": {
        "customPlotOptions": {},
        "displayType": "table",
        "pivotAggregation": null,
        "pivotColumns": null,
        "xColumns": null,
        "yColumns": null
       },
       "removedWidgets": [],
       "schema": [
        {
         "metadata": "{}",
         "name": "adjective",
         "type": "\"string\""
        },
        {
         "metadata": "{}",
         "name": "category",
         "type": "\"string\""
        },
        {
         "metadata": "{}",
         "name": "created_at",
         "type": "\"string\""
        },
        {
         "metadata": "{}",
         "name": "id",
         "type": "\"string\""
        },
        {
         "metadata": "{}",
         "name": "modifier",
         "type": "\"string\""
        },
        {
         "metadata": "{}",
         "name": "name",
         "type": "\"string\""
        },
        {
         "metadata": "{}",
         "name": "price",
         "type": "\"string\""
        }
       ],
       "type": "table"
      }
     },
     "output_type": "display_data"
    }
   ],
   "source": [
    "# Define a schema where all fields are strings to ingest raw CSV data without immediate type casting\n",
    "item_string_schema = StructType([\n",
    "    StructField(\"adjective\", StringType(), True),\n",
    "    StructField(\"category\", StringType(), True),\n",
    "    StructField(\"created_at\", StringType(), True),\n",
    "    StructField(\"id\", StringType(), True),\n",
    "    StructField(\"modifier\", StringType(), True),\n",
    "    StructField(\"name\", StringType(), True),\n",
    "    StructField(\"price\", StringType(), True)\n",
    "])\n",
    "\n",
    "# Read the CSV file using the string schema, with header\n",
    "bronze_item_df = (spark.read\n",
    "    .format(\"csv\")\n",
    "    .option(\"header\", \"true\")\n",
    "    .schema(item_string_schema)\n",
    "    .load(item_file_path)\n",
    ")\n",
    "\n",
    "# Write the DataFrame as a Delta table in bronze_db, overwriting if exists\n",
    "(bronze_item_df.write\n",
    "    .format(\"delta\")\n",
    "    .mode(\"overwrite\")\n",
    "    .saveAsTable(f\"{CATALOG_NAME}.bronze_db.item\")\n",
    ")\n",
    "\n",
    "display(spark.sql(f\"SELECT * FROM {CATALOG_NAME}.bronze_db.item LIMIT 10\"))"
   ]
  },
  {
   "cell_type": "markdown",
   "metadata": {},
   "source": [
    "#### 3.C. BRONZE (Event Table)"
   ]
  },
  {
   "cell_type": "code",
   "execution_count": null,
   "metadata": {
    "application/vnd.databricks.v1+cell": {
     "cellMetadata": {
      "byteLimit": 2048000,
      "rowLimit": 10000
     },
     "inputWidgets": {},
     "nuid": "6382eed2-dad2-489b-bd6f-30e5d02281d1",
     "showTitle": false,
     "tableResultSettingsMap": {
      "0": {
       "dataGridStateBlob": "{\"version\":1,\"tableState\":{\"columnPinning\":{\"left\":[\"#row_number#\"],\"right\":[]},\"columnSizing\":{\"event_payload\":620},\"columnVisibility\":{}},\"settings\":{\"columns\":{}},\"syncTimestamp\":1761234802081}",
       "filterBlob": null,
       "queryPlanFiltersBlob": null,
       "tableResultIndex": 0
      }
     },
     "title": ""
    }
   },
   "outputs": [
    {
     "data": {
      "text/html": [
       "<style scoped>\n",
       "  .table-result-container {\n",
       "    max-height: 300px;\n",
       "    overflow: auto;\n",
       "  }\n",
       "  table, th, td {\n",
       "    border: 1px solid black;\n",
       "    border-collapse: collapse;\n",
       "  }\n",
       "  th, td {\n",
       "    padding: 5px;\n",
       "  }\n",
       "  th {\n",
       "    text-align: left;\n",
       "  }\n",
       "</style><div class='table-result-container'><table class='table-result'><thead style='background-color: white'><tr><th>event_id</th><th>event_time</th><th>user_id</th><th>event_payload</th></tr></thead><tbody><tr><td>b9de71c5c3cc4cd7a97e50b832106e5a</td><td>2017-06-26 11:23:39</td><td>178481.0</td><td>{\"event_name\":\"view_item\",\"platform\":\"android\",\"parameter_name\":\"item_id\",\"parameter_value\":\"3526\"}</td></tr><tr><td>23267713c9ea44419331731f50b6a8db</td><td>2017-06-27 10:46:39</td><td>178481.0</td><td>{\"event_name\":\"view_item\",\"platform\":\"android\",\"parameter_name\":\"item_id\",\"parameter_value\":\"1514\"}</td></tr><tr><td>1b7822fa7b854e01970218ae8f721fe0</td><td>2017-06-27 11:15:39</td><td>178481.0</td><td>{\"event_name\":\"view_item\",\"platform\":\"android\",\"parameter_name\":\"item_id\",\"parameter_value\":\"3712\"}</td></tr><tr><td>2a7a188a626841ac94befcc419f06af4</td><td>2016-10-05 20:43:10</td><td>154133.0</td><td>{\"event_name\":\"view_item\",\"platform\":\"android\",\"parameter_name\":\"item_id\",\"parameter_value\":\"3586\"}</td></tr><tr><td>631d657264cc4616a4528f759509b25d</td><td>2016-10-04 03:29:10</td><td>154133.0</td><td>{\"event_name\":\"view_item\",\"platform\":\"android\",\"parameter_name\":\"item_id\",\"parameter_value\":\"1061\"}</td></tr><tr><td>05e4df2fa9044bf9a49a7351fdd4a6cd</td><td>2016-07-21 01:17:43</td><td>119514.0</td><td>{\"event_name\":\"view_item\",\"platform\":\"web\",\"parameter_name\":\"item_id\",\"parameter_value\":\"550\"}</td></tr><tr><td>22d3cdd566534fbdaa5e2982c1e64a75</td><td>2016-11-24 12:10:06</td><td>164581.0</td><td>{\"event_name\":\"view_item\",\"platform\":\"web\",\"parameter_name\":\"item_id\",\"parameter_value\":\"982\"}</td></tr><tr><td>cb0c825fe3804f42b602106580845b88</td><td>2016-11-23 21:13:06</td><td>164581.0</td><td>{\"event_name\":\"view_item\",\"platform\":\"web\",\"parameter_name\":\"item_id\",\"parameter_value\":\"858\"}</td></tr><tr><td>181f7f97ab10440fb444810e085ded46</td><td>2016-11-25 20:06:06</td><td>164581.0</td><td>{\"event_name\":\"view_item\",\"platform\":\"web\",\"parameter_name\":\"item_id\",\"parameter_value\":\"3363\"}</td></tr><tr><td>bbbd68b2dbd04ecabacaa00e130a52f9</td><td>2018-02-06 06:19:55</td><td>232806.0</td><td>{\"event_name\":\"view_item\",\"platform\":\"web\",\"parameter_name\":\"item_id\",\"parameter_value\":\"2344\"}</td></tr></tbody></table></div>"
      ]
     },
     "metadata": {
      "application/vnd.databricks.v1+output": {
       "addedWidgets": {},
       "aggData": [],
       "aggError": "",
       "aggOverflow": false,
       "aggSchema": [],
       "aggSeriesLimitReached": false,
       "aggType": "",
       "arguments": {},
       "columnCustomDisplayInfos": {},
       "data": [
        [
         "b9de71c5c3cc4cd7a97e50b832106e5a",
         "2017-06-26 11:23:39",
         "178481.0",
         "{\"event_name\":\"view_item\",\"platform\":\"android\",\"parameter_name\":\"item_id\",\"parameter_value\":\"3526\"}"
        ],
        [
         "23267713c9ea44419331731f50b6a8db",
         "2017-06-27 10:46:39",
         "178481.0",
         "{\"event_name\":\"view_item\",\"platform\":\"android\",\"parameter_name\":\"item_id\",\"parameter_value\":\"1514\"}"
        ],
        [
         "1b7822fa7b854e01970218ae8f721fe0",
         "2017-06-27 11:15:39",
         "178481.0",
         "{\"event_name\":\"view_item\",\"platform\":\"android\",\"parameter_name\":\"item_id\",\"parameter_value\":\"3712\"}"
        ],
        [
         "2a7a188a626841ac94befcc419f06af4",
         "2016-10-05 20:43:10",
         "154133.0",
         "{\"event_name\":\"view_item\",\"platform\":\"android\",\"parameter_name\":\"item_id\",\"parameter_value\":\"3586\"}"
        ],
        [
         "631d657264cc4616a4528f759509b25d",
         "2016-10-04 03:29:10",
         "154133.0",
         "{\"event_name\":\"view_item\",\"platform\":\"android\",\"parameter_name\":\"item_id\",\"parameter_value\":\"1061\"}"
        ],
        [
         "05e4df2fa9044bf9a49a7351fdd4a6cd",
         "2016-07-21 01:17:43",
         "119514.0",
         "{\"event_name\":\"view_item\",\"platform\":\"web\",\"parameter_name\":\"item_id\",\"parameter_value\":\"550\"}"
        ],
        [
         "22d3cdd566534fbdaa5e2982c1e64a75",
         "2016-11-24 12:10:06",
         "164581.0",
         "{\"event_name\":\"view_item\",\"platform\":\"web\",\"parameter_name\":\"item_id\",\"parameter_value\":\"982\"}"
        ],
        [
         "cb0c825fe3804f42b602106580845b88",
         "2016-11-23 21:13:06",
         "164581.0",
         "{\"event_name\":\"view_item\",\"platform\":\"web\",\"parameter_name\":\"item_id\",\"parameter_value\":\"858\"}"
        ],
        [
         "181f7f97ab10440fb444810e085ded46",
         "2016-11-25 20:06:06",
         "164581.0",
         "{\"event_name\":\"view_item\",\"platform\":\"web\",\"parameter_name\":\"item_id\",\"parameter_value\":\"3363\"}"
        ],
        [
         "bbbd68b2dbd04ecabacaa00e130a52f9",
         "2018-02-06 06:19:55",
         "232806.0",
         "{\"event_name\":\"view_item\",\"platform\":\"web\",\"parameter_name\":\"item_id\",\"parameter_value\":\"2344\"}"
        ]
       ],
       "datasetInfos": [],
       "dbfsResultPath": null,
       "isJsonSchema": true,
       "metadata": {},
       "overflow": false,
       "plotOptions": {
        "customPlotOptions": {},
        "displayType": "table",
        "pivotAggregation": null,
        "pivotColumns": null,
        "xColumns": null,
        "yColumns": null
       },
       "removedWidgets": [],
       "schema": [
        {
         "metadata": "{}",
         "name": "event_id",
         "type": "\"string\""
        },
        {
         "metadata": "{}",
         "name": "event_time",
         "type": "\"string\""
        },
        {
         "metadata": "{}",
         "name": "user_id",
         "type": "\"string\""
        },
        {
         "metadata": "{}",
         "name": "event_payload",
         "type": "\"string\""
        }
       ],
       "type": "table"
      }
     },
     "output_type": "display_data"
    }
   ],
   "source": [
    "event_string_schema = StructType([\n",
    "    StructField(\"event_id\", StringType(), True),\n",
    "    StructField(\"event_time\", StringType(), True),\n",
    "    StructField(\"user_id\", StringType(), True),\n",
    "    StructField(\"event_payload\", StringType(), True)\n",
    "])\n",
    "\n",
    "# multiLine: \"true\" enables reading fields that span multiple lines, crucial for JSON payloads that might contain newlines\n",
    "# escape: '\"' specifies the escape character for handling double quotes inside quoted fields, preventing parsing errors in JSON strings\n",
    "bronze_event_df = (spark.read\n",
    "    .format(\"csv\")\n",
    "    .option(\"header\", \"true\")\n",
    "    .schema(event_string_schema)\n",
    "    .option(\"multiLine\", \"true\")\n",
    "    .option(\"escape\", '\"')\n",
    "    .load(event_file_path)\n",
    ")\n",
    "\n",
    "(bronze_event_df.write\n",
    "    .format(\"delta\")\n",
    "    .mode(\"overwrite\")\n",
    "    .saveAsTable(f\"{CATALOG_NAME}.bronze_db.event\")\n",
    ")\n",
    "\n",
    "display(spark.sql(f\"SELECT * FROM {CATALOG_NAME}.bronze_db.event LIMIT 10\"))"
   ]
  },
  {
   "cell_type": "markdown",
   "metadata": {},
   "source": [
    "## 4. LAYER 2: SILVER"
   ]
  },
  {
   "cell_type": "markdown",
   "metadata": {},
   "source": [
    "- refines the Bronze event data by parsing the JSON payload\n",
    "- casting types\n",
    "- adding year\n",
    "- filtering valid timestamps\n",
    "- writing a partitioned Delta table"
   ]
  },
  {
   "cell_type": "code",
   "execution_count": null,
   "metadata": {
    "application/vnd.databricks.v1+cell": {
     "cellMetadata": {
      "byteLimit": 2048000,
      "rowLimit": 10000
     },
     "inputWidgets": {},
     "nuid": "095cc1d7-3dde-45d6-8ddd-113a56d3d527",
     "showTitle": false,
     "tableResultSettingsMap": {},
     "title": ""
    }
   },
   "outputs": [
    {
     "data": {
      "text/plain": [
       "DataFrame[]"
      ]
     },
     "execution_count": 92,
     "metadata": {},
     "output_type": "execute_result"
    }
   ],
   "source": [
    "spark.sql(f\"CREATE SCHEMA IF NOT EXISTS silver_db\")\n",
    "spark.sql(f\"USE SCHEMA silver_db\")"
   ]
  },
  {
   "cell_type": "markdown",
   "metadata": {},
   "source": [
    "#### 4.A. SILVER (Item Table)"
   ]
  },
  {
   "cell_type": "code",
   "execution_count": null,
   "metadata": {
    "application/vnd.databricks.v1+cell": {
     "cellMetadata": {
      "byteLimit": 2048000,
      "rowLimit": 10000
     },
     "inputWidgets": {},
     "nuid": "aae64578-58cf-477a-bf47-f1e111bfd174",
     "showTitle": false,
     "tableResultSettingsMap": {},
     "title": ""
    }
   },
   "outputs": [
    {
     "data": {
      "text/html": [
       "<style scoped>\n",
       "  .table-result-container {\n",
       "    max-height: 300px;\n",
       "    overflow: auto;\n",
       "  }\n",
       "  table, th, td {\n",
       "    border: 1px solid black;\n",
       "    border-collapse: collapse;\n",
       "  }\n",
       "  th, td {\n",
       "    padding: 5px;\n",
       "  }\n",
       "  th {\n",
       "    text-align: left;\n",
       "  }\n",
       "</style><div class='table-result-container'><table class='table-result'><thead style='background-color: white'><tr><th>item_id</th><th>item_name</th><th>category</th><th>adjective</th><th>modifier</th><th>price</th><th>created_at_ts</th></tr></thead><tbody><tr><td>2512</td><td>fuzzy contraption carrying_case</td><td>contraption</td><td>fuzzy</td><td>carrying_case</td><td>150.00</td><td>2014-01-15T21:36:09.000Z</td></tr><tr><td>482</td><td>instrument refill</td><td>instrument</td><td>unknown</td><td>refill</td><td>35.20</td><td>2013-05-14T05:20:50.000Z</td></tr><tr><td>2446</td><td>industrial-strength module</td><td>module</td><td>industrial-strength</td><td>unknown</td><td>300.00</td><td>2014-02-04T19:28:32.000Z</td></tr><tr><td>1312</td><td>digital tool carrying_case</td><td>tool</td><td>digital</td><td>carrying_case</td><td>16.50</td><td>2013-02-25T12:23:18.000Z</td></tr><tr><td>3556</td><td>miniature device cleaner</td><td>device</td><td>miniature</td><td>cleaner</td><td>16.50</td><td>2013-08-05T17:20:45.000Z</td></tr><tr><td>131</td><td>rechargable contraption cleaner</td><td>contraption</td><td>rechargable</td><td>cleaner</td><td>195.00</td><td>2013-09-12T06:27:01.000Z</td></tr><tr><td>1178</td><td>instrument how-to-manual</td><td>instrument</td><td>unknown</td><td>how-to-manual</td><td>0.00</td><td>2013-10-07T09:38:14.000Z</td></tr><tr><td>110</td><td>prize-winning mechanism storage_unit</td><td>mechanism</td><td>prize-winning</td><td>storage_unit</td><td>41.25</td><td>2013-09-09T09:32:18.000Z</td></tr><tr><td>47</td><td>mechanism</td><td>mechanism</td><td>unknown</td><td>unknown</td><td>15.00</td><td>2013-10-25T22:53:25.000Z</td></tr><tr><td>1696</td><td>organic tool</td><td>tool</td><td>organic</td><td>unknown</td><td>37.50</td><td>2013-05-10T10:19:33.000Z</td></tr></tbody></table></div>"
      ]
     },
     "metadata": {
      "application/vnd.databricks.v1+output": {
       "addedWidgets": {},
       "aggData": [],
       "aggError": "",
       "aggOverflow": false,
       "aggSchema": [],
       "aggSeriesLimitReached": false,
       "aggType": "",
       "arguments": {},
       "columnCustomDisplayInfos": {},
       "data": [
        [
         2512,
         "fuzzy contraption carrying_case",
         "contraption",
         "fuzzy",
         "carrying_case",
         "150.00",
         "2014-01-15T21:36:09.000Z"
        ],
        [
         482,
         "instrument refill",
         "instrument",
         "unknown",
         "refill",
         "35.20",
         "2013-05-14T05:20:50.000Z"
        ],
        [
         2446,
         "industrial-strength module",
         "module",
         "industrial-strength",
         "unknown",
         "300.00",
         "2014-02-04T19:28:32.000Z"
        ],
        [
         1312,
         "digital tool carrying_case",
         "tool",
         "digital",
         "carrying_case",
         "16.50",
         "2013-02-25T12:23:18.000Z"
        ],
        [
         3556,
         "miniature device cleaner",
         "device",
         "miniature",
         "cleaner",
         "16.50",
         "2013-08-05T17:20:45.000Z"
        ],
        [
         131,
         "rechargable contraption cleaner",
         "contraption",
         "rechargable",
         "cleaner",
         "195.00",
         "2013-09-12T06:27:01.000Z"
        ],
        [
         1178,
         "instrument how-to-manual",
         "instrument",
         "unknown",
         "how-to-manual",
         "0.00",
         "2013-10-07T09:38:14.000Z"
        ],
        [
         110,
         "prize-winning mechanism storage_unit",
         "mechanism",
         "prize-winning",
         "storage_unit",
         "41.25",
         "2013-09-09T09:32:18.000Z"
        ],
        [
         47,
         "mechanism",
         "mechanism",
         "unknown",
         "unknown",
         "15.00",
         "2013-10-25T22:53:25.000Z"
        ],
        [
         1696,
         "organic tool",
         "tool",
         "organic",
         "unknown",
         "37.50",
         "2013-05-10T10:19:33.000Z"
        ]
       ],
       "datasetInfos": [],
       "dbfsResultPath": null,
       "isJsonSchema": true,
       "metadata": {},
       "overflow": false,
       "plotOptions": {
        "customPlotOptions": {},
        "displayType": "table",
        "pivotAggregation": null,
        "pivotColumns": null,
        "xColumns": null,
        "yColumns": null
       },
       "removedWidgets": [],
       "schema": [
        {
         "metadata": "{}",
         "name": "item_id",
         "type": "\"long\""
        },
        {
         "metadata": "{}",
         "name": "item_name",
         "type": "\"string\""
        },
        {
         "metadata": "{}",
         "name": "category",
         "type": "\"string\""
        },
        {
         "metadata": "{}",
         "name": "adjective",
         "type": "\"string\""
        },
        {
         "metadata": "{}",
         "name": "modifier",
         "type": "\"string\""
        },
        {
         "metadata": "{}",
         "name": "price",
         "type": "\"decimal(10,2)\""
        },
        {
         "metadata": "{}",
         "name": "created_at_ts",
         "type": "\"timestamp\""
        }
       ],
       "type": "table"
      }
     },
     "output_type": "display_data"
    }
   ],
   "source": [
    "# Load Bronze event data\n",
    "bronze_item = spark.table(f\"{CATALOG_NAME}.bronze_db.item\")\n",
    "\n",
    "# Transform the Bronze item data into Silver by casting types, handling nulls, and selecting/aliasing columns for clarity and consistency\n",
    "silver_item_df = (bronze_item\n",
    "  .withColumn(\"item_id\", col(\"id\").cast(DoubleType()).cast(LongType())) # Cast 'id' to Double then Long to handle potential decimal IDs as integers, renaming to 'item_id'\n",
    "  .withColumn(\"created_at_ts\", to_timestamp(col(\"created_at\")))\n",
    "  .withColumn(\"price_decimal\", col(\"price\").cast(DecimalType(10, 2))) # Cast 'price' to Decimal with precision 10 and scale 2 for monetary values\n",
    "  .withColumn(\"adjective_clean\", coalesce(col(\"adjective\"), lit(\"unknown\"))) # Handle null 'adjective' by replacing with 'unknown' using coalesce\n",
    "  .withColumn(\"modifier_clean\", coalesce(col(\"modifier\"), lit(\"unknown\")))\n",
    "  .select(\n",
    "    col(\"item_id\"),\n",
    "    col(\"name\").alias(\"item_name\"),\n",
    "    col(\"category\"),\n",
    "    col(\"adjective_clean\").alias(\"adjective\"),\n",
    "    col(\"modifier_clean\").alias(\"modifier\"),\n",
    "    col(\"price_decimal\").alias(\"price\"),\n",
    "    col(\"created_at_ts\")\n",
    "  )\n",
    ")\n",
    "\n",
    "(silver_item_df.write\n",
    "  .format(\"delta\")\n",
    "  .mode(\"overwrite\")\n",
    "  .saveAsTable(f\"{CATALOG_NAME}.silver_db.item\")\n",
    ")\n",
    "display(spark.sql(f\"SELECT * FROM {CATALOG_NAME}.silver_db.item LIMIT 10\"))"
   ]
  },
  {
   "cell_type": "markdown",
   "metadata": {},
   "source": [
    "#### 4.B. SILVER (Event Table)"
   ]
  },
  {
   "cell_type": "code",
   "execution_count": null,
   "metadata": {
    "application/vnd.databricks.v1+cell": {
     "cellMetadata": {
      "byteLimit": 2048000,
      "rowLimit": 10000
     },
     "inputWidgets": {},
     "nuid": "9970a2b2-f2c5-4e23-ab3a-6ef10845e8b3",
     "showTitle": false,
     "tableResultSettingsMap": {
      "0": {
       "dataGridStateBlob": "{\"version\":1,\"tableState\":{\"columnPinning\":{\"left\":[\"#row_number#\"],\"right\":[]},\"columnSizing\":{\"event_payload\":320},\"columnVisibility\":{}},\"settings\":{\"columns\":{}},\"syncTimestamp\":1761234576117}",
       "filterBlob": null,
       "queryPlanFiltersBlob": null,
       "tableResultIndex": 0
      }
     },
     "title": ""
    }
   },
   "outputs": [
    {
     "data": {
      "text/html": [
       "<style scoped>\n",
       "  .table-result-container {\n",
       "    max-height: 300px;\n",
       "    overflow: auto;\n",
       "  }\n",
       "  table, th, td {\n",
       "    border: 1px solid black;\n",
       "    border-collapse: collapse;\n",
       "  }\n",
       "  th, td {\n",
       "    padding: 5px;\n",
       "  }\n",
       "  th {\n",
       "    text-align: left;\n",
       "  }\n",
       "</style><div class='table-result-container'><table class='table-result'><thead style='background-color: white'><tr><th>event_id</th><th>event_at_ts</th><th>user_id</th><th>event_name</th><th>platform</th><th>parameter_name</th><th>parameter_value</th><th>event_year</th></tr></thead><tbody><tr><td>2a7a188a626841ac94befcc419f06af4</td><td>2016-10-05T20:43:10.000Z</td><td>154133</td><td>view_item</td><td>android</td><td>item_id</td><td>3586</td><td>2016</td></tr><tr><td>631d657264cc4616a4528f759509b25d</td><td>2016-10-04T03:29:10.000Z</td><td>154133</td><td>view_item</td><td>android</td><td>item_id</td><td>1061</td><td>2016</td></tr><tr><td>05e4df2fa9044bf9a49a7351fdd4a6cd</td><td>2016-07-21T01:17:43.000Z</td><td>119514</td><td>view_item</td><td>web</td><td>item_id</td><td>550</td><td>2016</td></tr><tr><td>22d3cdd566534fbdaa5e2982c1e64a75</td><td>2016-11-24T12:10:06.000Z</td><td>164581</td><td>view_item</td><td>web</td><td>item_id</td><td>982</td><td>2016</td></tr><tr><td>cb0c825fe3804f42b602106580845b88</td><td>2016-11-23T21:13:06.000Z</td><td>164581</td><td>view_item</td><td>web</td><td>item_id</td><td>858</td><td>2016</td></tr><tr><td>181f7f97ab10440fb444810e085ded46</td><td>2016-11-25T20:06:06.000Z</td><td>164581</td><td>view_item</td><td>web</td><td>item_id</td><td>3363</td><td>2016</td></tr><tr><td>0fb7065155394dc3ba90c6c554dbe8d5</td><td>2016-03-03T07:13:36.000Z</td><td>108121</td><td>view_item</td><td>web</td><td>item_id</td><td>332</td><td>2016</td></tr><tr><td>fdbc95f4e3644a7caf0a3e143b42bfb3</td><td>2016-03-03T18:31:36.000Z</td><td>108121</td><td>view_item</td><td>web</td><td>item_id</td><td>1132</td><td>2016</td></tr><tr><td>e8b3c6358f924cf3912f9a0b88758d5f</td><td>2016-04-12T10:49:42.000Z</td><td>96931</td><td>view_item</td><td>web</td><td>item_id</td><td>1533</td><td>2016</td></tr><tr><td>3018677b46514e018a40bc2aeac6390d</td><td>2016-04-11T00:34:42.000Z</td><td>96931</td><td>view_item</td><td>web</td><td>item_id</td><td>2362</td><td>2016</td></tr></tbody></table></div>"
      ]
     },
     "metadata": {
      "application/vnd.databricks.v1+output": {
       "addedWidgets": {},
       "aggData": [],
       "aggError": "",
       "aggOverflow": false,
       "aggSchema": [],
       "aggSeriesLimitReached": false,
       "aggType": "",
       "arguments": {},
       "columnCustomDisplayInfos": {},
       "data": [
        [
         "2a7a188a626841ac94befcc419f06af4",
         "2016-10-05T20:43:10.000Z",
         154133,
         "view_item",
         "android",
         "item_id",
         "3586",
         2016
        ],
        [
         "631d657264cc4616a4528f759509b25d",
         "2016-10-04T03:29:10.000Z",
         154133,
         "view_item",
         "android",
         "item_id",
         "1061",
         2016
        ],
        [
         "05e4df2fa9044bf9a49a7351fdd4a6cd",
         "2016-07-21T01:17:43.000Z",
         119514,
         "view_item",
         "web",
         "item_id",
         "550",
         2016
        ],
        [
         "22d3cdd566534fbdaa5e2982c1e64a75",
         "2016-11-24T12:10:06.000Z",
         164581,
         "view_item",
         "web",
         "item_id",
         "982",
         2016
        ],
        [
         "cb0c825fe3804f42b602106580845b88",
         "2016-11-23T21:13:06.000Z",
         164581,
         "view_item",
         "web",
         "item_id",
         "858",
         2016
        ],
        [
         "181f7f97ab10440fb444810e085ded46",
         "2016-11-25T20:06:06.000Z",
         164581,
         "view_item",
         "web",
         "item_id",
         "3363",
         2016
        ],
        [
         "0fb7065155394dc3ba90c6c554dbe8d5",
         "2016-03-03T07:13:36.000Z",
         108121,
         "view_item",
         "web",
         "item_id",
         "332",
         2016
        ],
        [
         "fdbc95f4e3644a7caf0a3e143b42bfb3",
         "2016-03-03T18:31:36.000Z",
         108121,
         "view_item",
         "web",
         "item_id",
         "1132",
         2016
        ],
        [
         "e8b3c6358f924cf3912f9a0b88758d5f",
         "2016-04-12T10:49:42.000Z",
         96931,
         "view_item",
         "web",
         "item_id",
         "1533",
         2016
        ],
        [
         "3018677b46514e018a40bc2aeac6390d",
         "2016-04-11T00:34:42.000Z",
         96931,
         "view_item",
         "web",
         "item_id",
         "2362",
         2016
        ]
       ],
       "datasetInfos": [],
       "dbfsResultPath": null,
       "isJsonSchema": true,
       "metadata": {},
       "overflow": false,
       "plotOptions": {
        "customPlotOptions": {},
        "displayType": "table",
        "pivotAggregation": null,
        "pivotColumns": null,
        "xColumns": null,
        "yColumns": null
       },
       "removedWidgets": [],
       "schema": [
        {
         "metadata": "{}",
         "name": "event_id",
         "type": "\"string\""
        },
        {
         "metadata": "{}",
         "name": "event_at_ts",
         "type": "\"timestamp\""
        },
        {
         "metadata": "{}",
         "name": "user_id",
         "type": "\"long\""
        },
        {
         "metadata": "{}",
         "name": "event_name",
         "type": "\"string\""
        },
        {
         "metadata": "{}",
         "name": "platform",
         "type": "\"string\""
        },
        {
         "metadata": "{}",
         "name": "parameter_name",
         "type": "\"string\""
        },
        {
         "metadata": "{}",
         "name": "parameter_value",
         "type": "\"string\""
        },
        {
         "metadata": "{}",
         "name": "event_year",
         "type": "\"integer\""
        }
       ],
       "type": "table"
      }
     },
     "output_type": "display_data"
    }
   ],
   "source": [
    "payload_schema = StructType([\n",
    "    StructField(\"event_name\", StringType(), True),\n",
    "    StructField(\"platform\", StringType(), True),\n",
    "    StructField(\"parameter_name\", StringType(), True),\n",
    "    StructField(\"parameter_value\", StringType(), True)\n",
    "])\n",
    "\n",
    "# Transform the Bronze event data: convert 'event_time' to timestamp, cast 'user_id' to long via double (to handle potential non-integer strings)\n",
    "# parse 'event_payload' into a struct using the schema, extract year from the timestamp, and select/alias the relevant columns for the Silver layer\n",
    "silver_event_df = (bronze_event\n",
    "  .withColumn(\"event_at_ts\", to_timestamp(col(\"event_time\")))\n",
    "  .withColumn(\"user_id\", col(\"user_id\").cast(DoubleType()).cast(LongType()))\n",
    "  .withColumn(\"payload\", from_json(col(\"event_payload\"), payload_schema)) # Parse the JSON string in event_payload using the defined schema\n",
    "  .withColumn(\"event_year\", year(col(\"event_at_ts\")))\n",
    "  .select(\n",
    "    col(\"event_id\"),\n",
    "    col(\"event_at_ts\"),\n",
    "    col(\"user_id\"),\n",
    "    col(\"payload.event_name\").alias(\"event_name\"),\n",
    "    col(\"payload.platform\").alias(\"platform\"),\n",
    "    col(\"payload.parameter_name\").alias(\"parameter_name\"),\n",
    "    col(\"payload.parameter_value\").alias(\"parameter_value\"),\n",
    "    col(\"event_year\")\n",
    "  )\n",
    ")\n",
    "\n",
    "# Filter the DataFrame to remove rows where the timestamp conversion failed (null timestamps), ensuring data quality\n",
    "silver_event_df_filtered = silver_event_df.filter(col(\"event_at_ts\").isNotNull()) \n",
    "\n",
    "(silver_event_df_filtered.write\n",
    "  .format(\"delta\")\n",
    "  .mode(\"overwrite\")\n",
    "  .partitionBy(\"event_year\")\n",
    "  .saveAsTable(f\"{CATALOG_NAME}.silver_db.event\")\n",
    ")\n",
    "\n",
    "display(spark.sql(f\"SELECT * FROM {CATALOG_NAME}.silver_db.event LIMIT 10\"))"
   ]
  },
  {
   "cell_type": "markdown",
   "metadata": {},
   "source": [
    "# LAYER 3: GOLD"
   ]
  },
  {
   "cell_type": "markdown",
   "metadata": {},
   "source": [
    "- loads Silver event\n",
    "- filters view_item\n",
    "- aggregates views, platform counts\n",
    "- finds top platform, ranks\n",
    "- joins Silver item for names/category\n",
    "- writes Delta table\n",
    "\n",
    "DDL: \n",
    "- denormalized fact table with item_id/event_year as composite key\n",
    "- total_views/rank/platform as metrics\n",
    "- item_name/category for dimension\n",
    "- optimized for year-based queries via partitioning if added"
   ]
  },
  {
   "cell_type": "code",
   "execution_count": null,
   "metadata": {
    "application/vnd.databricks.v1+cell": {
     "cellMetadata": {
      "byteLimit": 2048000,
      "rowLimit": 10000
     },
     "inputWidgets": {},
     "nuid": "2bf7e17e-ffe8-4c34-b4a0-d6a0fb38a5ad",
     "showTitle": false,
     "tableResultSettingsMap": {},
     "title": ""
    }
   },
   "outputs": [
    {
     "data": {
      "text/plain": [
       "DataFrame[]"
      ]
     },
     "execution_count": 98,
     "metadata": {},
     "output_type": "execute_result"
    }
   ],
   "source": [
    "spark.sql(f\"CREATE SCHEMA IF NOT EXISTS gold_db\")\n",
    "spark.sql(f\"USE SCHEMA gold_db\")"
   ]
  },
  {
   "cell_type": "code",
   "execution_count": null,
   "metadata": {
    "application/vnd.databricks.v1+cell": {
     "cellMetadata": {
      "byteLimit": 2048000,
      "rowLimit": 10000
     },
     "inputWidgets": {},
     "nuid": "da5bf567-bb5e-400b-9098-0c9597887cea",
     "showTitle": false,
     "tableResultSettingsMap": {},
     "title": ""
    }
   },
   "outputs": [],
   "source": [
    "# Load the Silver event table from the specified catalog and schema\n",
    "silver_events = spark.table(f\"{CATALOG_NAME}.silver_db.event\")\n",
    "\n",
    "# Create a base DataFrame by filtering for 'view_item' events where the parameter is 'item_id' and the value is not null\n",
    "# select the year, cast parameter_value to long as 'item_id', and platform\n",
    "views_base_df = (silver_events\n",
    "  .filter(\n",
    "    (col(\"event_name\") == \"view_item\") & \n",
    "    (col(\"parameter_name\") == \"item_id\") &\n",
    "    (col(\"parameter_value\").isNotNull())\n",
    "  )\n",
    "  .select(\n",
    "    col(\"event_year\"),\n",
    "    col(\"parameter_value\").cast(DoubleType()).cast(LongType()).alias(\"item_id\"),\n",
    "    col(\"platform\")\n",
    "  )\n",
    ")\n",
    "\n",
    "# Aggregate total views by grouping on item_id and event_year, counting all rows, and renaming the count column to 'total_views'.\n",
    "total_views_df = (views_base_df\n",
    "  .groupBy(\"item_id\", \"event_year\")\n",
    "  .agg({\"*\": \"count\"})\n",
    "  .withColumnRenamed(\"count(1)\", \"total_views\")\n",
    ")\n",
    "\n",
    "# Aggregate platform-specific views by grouping on item_id, event_year, and platform, counting rows, and renaming to 'platform_views'\n",
    "platform_counts_df = (views_base_df\n",
    "  .groupBy(\"item_id\", \"event_year\", \"platform\")\n",
    "  .agg({\"*\": \"count\"})\n",
    "  .withColumnRenamed(\"count(1)\", \"platform_views\")\n",
    ")\n",
    "\n",
    "# Define a window partitioned by item_id and event_year, ordered descending by platform_views to rank platforms\n",
    "platform_window = (Window\n",
    "  .partitionBy(\"item_id\", \"event_year\")\n",
    "  .orderBy(col(\"platform_views\").desc())\n",
    ")\n",
    "\n",
    "# Add a row number over the window to identify the top platform\n",
    "# filter for rank 1, and select item_id, year, and alias platform as 'most_used_platform'\n",
    "top_platform_df = (platform_counts_df\n",
    "  .withColumn(\"rn\", row_number().over(platform_window))\n",
    "  .filter(col(\"rn\") == 1)\n",
    "  .select(\n",
    "    col(\"item_id\"),\n",
    "    col(\"event_year\"),\n",
    "    col(\"platform\").alias(\"most_used_platform\")\n",
    "  )\n",
    ")\n",
    "\n",
    "# Join the total views DataFrame with the top platform DataFrame on item_id and event_year using a left join\n",
    "datamart_df = (total_views_df\n",
    "  .join(top_platform_df, [\"item_id\", \"event_year\"], \"left\")\n",
    ")\n",
    "\n",
    "# Define a window partitioned by event_year, ordered descending by total_views to rank items within each year\n",
    "item_rank_window = (Window\n",
    "  .partitionBy(\"event_year\")\n",
    "  .orderBy(col(\"total_views\").desc())\n",
    ")\n",
    "\n",
    "# Add a rank column over the window to assign ranks based on total_views within each year\n",
    "final_datamart_df = (datamart_df\n",
    "  .withColumn(\"item_rank_in_year\", rank().over(item_rank_window))\n",
    ")\n",
    "\n",
    "# Load selected columns (item_id, item_name, category) from the Silver item table\n",
    "silver_item = spark.table(f\"{CATALOG_NAME}.silver_db.item\").select(\"item_id\", \"item_name\", \"category\")\n",
    "\n",
    "# Join the final datamart with item details on item_id using a left join\n",
    "# select the desired columns including names and category for denormalization\n",
    "final_datamart_with_names_df = (final_datamart_df\n",
    "  .join(silver_item, \"item_id\", \"left\")\n",
    "  .select(\n",
    "      \"item_id\",\n",
    "      \"item_name\",\n",
    "      \"category\",\n",
    "      \"event_year\",\n",
    "      \"total_views\",\n",
    "      \"item_rank_in_year\",\n",
    "      \"most_used_platform\"\n",
    "  )\n",
    ")\n",
    "\n",
    "# Write the final datamart DataFrame as a Delta table in overwrite mode to the gold_db.top_item table\n",
    "# This creates or updates the Gold layer datamart with DDL \n",
    "# including item_id (long), item_name (string), category (string), event_year (int), total_views (long), item_rank_in_year (int), most_used_platform (string)\n",
    "# designed for business queries on top items by views, ranked per year\n",
    "(final_datamart_with_names_df.write\n",
    "  .format(\"delta\")\n",
    "  .mode(\"overwrite\")\n",
    "  .saveAsTable(f\"{CATALOG_NAME}.gold_db.top_item\")\n",
    ")"
   ]
  },
  {
   "cell_type": "code",
   "execution_count": null,
   "metadata": {
    "application/vnd.databricks.v1+cell": {
     "cellMetadata": {
      "byteLimit": 2048000,
      "rowLimit": 10000
     },
     "inputWidgets": {},
     "nuid": "431185ed-fb34-4c28-bd50-861615e2e8d3",
     "showTitle": false,
     "tableResultSettingsMap": {},
     "title": ""
    }
   },
   "outputs": [
    {
     "data": {
      "text/html": [
       "<style scoped>\n",
       "  .table-result-container {\n",
       "    max-height: 300px;\n",
       "    overflow: auto;\n",
       "  }\n",
       "  table, th, td {\n",
       "    border: 1px solid black;\n",
       "    border-collapse: collapse;\n",
       "  }\n",
       "  th, td {\n",
       "    padding: 5px;\n",
       "  }\n",
       "  th {\n",
       "    text-align: left;\n",
       "  }\n",
       "</style><div class='table-result-container'><table class='table-result'><thead style='background-color: white'><tr><th>item_id</th><th>item_name</th><th>category</th><th>event_year</th><th>total_views</th><th>item_rank_in_year</th><th>most_used_platform</th></tr></thead><tbody><tr><td>597</td><td>widget opener</td><td>widget</td><td>2018</td><td>33</td><td>1</td><td>web</td></tr><tr><td>2422</td><td>glossy contraption</td><td>contraption</td><td>2018</td><td>29</td><td>2</td><td>web</td></tr><tr><td>3882</td><td>module</td><td>module</td><td>2018</td><td>29</td><td>2</td><td>web</td></tr><tr><td>2337</td><td>reflective contraption</td><td>contraption</td><td>2018</td><td>28</td><td>4</td><td>web</td></tr><tr><td>159</td><td>miniature module</td><td>module</td><td>2018</td><td>28</td><td>4</td><td>web</td></tr><tr><td>1144</td><td>rechargable contraption</td><td>contraption</td><td>2018</td><td>28</td><td>4</td><td>web</td></tr><tr><td>3763</td><td>digital widget charger</td><td>widget</td><td>2018</td><td>27</td><td>7</td><td>android</td></tr><tr><td>3884</td><td>organic apparatus</td><td>apparatus</td><td>2018</td><td>27</td><td>7</td><td>web</td></tr><tr><td>2954</td><td>analog contraption warmer</td><td>contraption</td><td>2018</td><td>27</td><td>7</td><td>web</td></tr><tr><td>639</td><td>reflective mechanism</td><td>mechanism</td><td>2018</td><td>27</td><td>7</td><td>web</td></tr><tr><td>2219</td><td>glossy dongle storage_unit</td><td>dongle</td><td>2018</td><td>27</td><td>7</td><td>web</td></tr><tr><td>54</td><td>fuzzy contraption how-to-manual</td><td>contraption</td><td>2018</td><td>27</td><td>7</td><td>web</td></tr><tr><td>3099</td><td>device refill</td><td>device</td><td>2018</td><td>27</td><td>7</td><td>web</td></tr><tr><td>1677</td><td>rechargable widget</td><td>widget</td><td>2018</td><td>27</td><td>7</td><td>web</td></tr><tr><td>1295</td><td>industrial-strength widget</td><td>widget</td><td>2018</td><td>27</td><td>7</td><td>web</td></tr><tr><td>3380</td><td>industrial-strength mechanism charger</td><td>mechanism</td><td>2018</td><td>26</td><td>16</td><td>web</td></tr><tr><td>1514</td><td>miniature apparatus cleaner</td><td>apparatus</td><td>2018</td><td>26</td><td>16</td><td>web</td></tr><tr><td>1548</td><td>aerodynamic gadget</td><td>gadget</td><td>2018</td><td>26</td><td>16</td><td>web</td></tr><tr><td>437</td><td>industrial-strength gadget cleaner</td><td>gadget</td><td>2018</td><td>26</td><td>16</td><td>web</td></tr><tr><td>886</td><td>organic dongle how-to-manual</td><td>dongle</td><td>2018</td><td>26</td><td>16</td><td>web</td></tr></tbody></table></div>"
      ]
     },
     "metadata": {
      "application/vnd.databricks.v1+output": {
       "addedWidgets": {},
       "aggData": [],
       "aggError": "",
       "aggOverflow": false,
       "aggSchema": [],
       "aggSeriesLimitReached": false,
       "aggType": "",
       "arguments": {},
       "columnCustomDisplayInfos": {},
       "data": [
        [
         597,
         "widget opener",
         "widget",
         2018,
         33,
         1,
         "web"
        ],
        [
         2422,
         "glossy contraption",
         "contraption",
         2018,
         29,
         2,
         "web"
        ],
        [
         3882,
         "module",
         "module",
         2018,
         29,
         2,
         "web"
        ],
        [
         2337,
         "reflective contraption",
         "contraption",
         2018,
         28,
         4,
         "web"
        ],
        [
         159,
         "miniature module",
         "module",
         2018,
         28,
         4,
         "web"
        ],
        [
         1144,
         "rechargable contraption",
         "contraption",
         2018,
         28,
         4,
         "web"
        ],
        [
         3763,
         "digital widget charger",
         "widget",
         2018,
         27,
         7,
         "android"
        ],
        [
         3884,
         "organic apparatus",
         "apparatus",
         2018,
         27,
         7,
         "web"
        ],
        [
         2954,
         "analog contraption warmer",
         "contraption",
         2018,
         27,
         7,
         "web"
        ],
        [
         639,
         "reflective mechanism",
         "mechanism",
         2018,
         27,
         7,
         "web"
        ],
        [
         2219,
         "glossy dongle storage_unit",
         "dongle",
         2018,
         27,
         7,
         "web"
        ],
        [
         54,
         "fuzzy contraption how-to-manual",
         "contraption",
         2018,
         27,
         7,
         "web"
        ],
        [
         3099,
         "device refill",
         "device",
         2018,
         27,
         7,
         "web"
        ],
        [
         1677,
         "rechargable widget",
         "widget",
         2018,
         27,
         7,
         "web"
        ],
        [
         1295,
         "industrial-strength widget",
         "widget",
         2018,
         27,
         7,
         "web"
        ],
        [
         3380,
         "industrial-strength mechanism charger",
         "mechanism",
         2018,
         26,
         16,
         "web"
        ],
        [
         1514,
         "miniature apparatus cleaner",
         "apparatus",
         2018,
         26,
         16,
         "web"
        ],
        [
         1548,
         "aerodynamic gadget",
         "gadget",
         2018,
         26,
         16,
         "web"
        ],
        [
         437,
         "industrial-strength gadget cleaner",
         "gadget",
         2018,
         26,
         16,
         "web"
        ],
        [
         886,
         "organic dongle how-to-manual",
         "dongle",
         2018,
         26,
         16,
         "web"
        ]
       ],
       "datasetInfos": [],
       "dbfsResultPath": null,
       "isJsonSchema": true,
       "metadata": {},
       "overflow": false,
       "plotOptions": {
        "customPlotOptions": {},
        "displayType": "table",
        "pivotAggregation": null,
        "pivotColumns": null,
        "xColumns": null,
        "yColumns": null
       },
       "removedWidgets": [],
       "schema": [
        {
         "metadata": "{}",
         "name": "item_id",
         "type": "\"long\""
        },
        {
         "metadata": "{}",
         "name": "item_name",
         "type": "\"string\""
        },
        {
         "metadata": "{}",
         "name": "category",
         "type": "\"string\""
        },
        {
         "metadata": "{}",
         "name": "event_year",
         "type": "\"integer\""
        },
        {
         "metadata": "{}",
         "name": "total_views",
         "type": "\"long\""
        },
        {
         "metadata": "{}",
         "name": "item_rank_in_year",
         "type": "\"integer\""
        },
        {
         "metadata": "{}",
         "name": "most_used_platform",
         "type": "\"string\""
        }
       ],
       "type": "table"
      }
     },
     "output_type": "display_data"
    }
   ],
   "source": [
    "# Query Datamart\n",
    "\n",
    "top_items_df = spark.sql(f\"\"\"\n",
    "  SELECT * FROM {CATALOG_NAME}.gold_db.top_item\n",
    "  WHERE event_year IS NOT NULL\n",
    "  ORDER BY event_year DESC, item_rank_in_year ASC\n",
    "  LIMIT 20\n",
    "\"\"\")\n",
    "display(top_items_df)"
   ]
  }
 ],
 "metadata": {
  "application/vnd.databricks.v1+notebook": {
   "computePreferences": null,
   "dashboards": [],
   "environmentMetadata": {
    "base_environment": "",
    "environment_version": "4"
   },
   "inputWidgetPreferences": null,
   "language": "python",
   "notebookMetadata": {
    "pythonIndentUnit": 4
   },
   "notebookName": "Medallion Pipeline",
   "widgets": {}
  },
  "kernelspec": {
   "display_name": "Python 3 (ipykernel)",
   "language": "python",
   "name": "python3"
  },
  "language_info": {
   "codemirror_mode": {
    "name": "ipython",
    "version": 3
   },
   "file_extension": ".py",
   "mimetype": "text/x-python",
   "name": "python",
   "nbconvert_exporter": "python",
   "pygments_lexer": "ipython3",
   "version": "3.11.2"
  }
 },
 "nbformat": 4,
 "nbformat_minor": 4
}
